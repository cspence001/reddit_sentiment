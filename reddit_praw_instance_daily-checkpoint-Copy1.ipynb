{
 "cells": [
  {
   "cell_type": "code",
   "execution_count": null,
   "id": "23bf5369",
   "metadata": {},
   "outputs": [],
   "source": [
    "pip install praw"
   ]
  },
  {
   "cell_type": "code",
   "execution_count": 1,
   "id": "c7ee2e7c",
   "metadata": {},
   "outputs": [],
   "source": [
    "import praw\n",
    "import pandas as pd\n",
    "import pprint\n",
    "from datetime import datetime\n",
    "import requests\n",
    "import json"
   ]
  },
  {
   "cell_type": "code",
   "execution_count": 2,
   "id": "c812da09",
   "metadata": {},
   "outputs": [],
   "source": [
    "reddit = praw.Reddit(client_id='UBPjp9_uuqjtNg', client_secret='J-rkLt0rQF9G27jDEuO3TQvmTbHAjQ', user_agent='doge_senti')"
   ]
  },
  {
   "cell_type": "code",
   "execution_count": 11,
   "id": "820b7372",
   "metadata": {},
   "outputs": [
    {
     "name": "stdout",
     "output_type": "stream",
     "text": [
      "                                                title  score      id  \\\n",
      "16              MEGATHRED - Dogecoin Daily discussion  33360  l79l0p   \n",
      "77           MEGA THREAD - Daily Dogecoin Discussion.   7939  l87icv   \n",
      "34  MEGATHREAD. DOGECOIN DAILY DISCUSSION. Keep yo...   2552  lbc6w8   \n",
      "20      DOGECOIN DAILY DISCUSSION - PUMP AND DUMP 101   4423  lc2xmk   \n",
      "33  DOGECOIN DAILY DISCUSSION - Be kind. Be excell...   2207  lcyyee   \n",
      "..                                                ...    ...     ...   \n",
      "12            DOGECOIN DAILY DISCUSSION - 25th April.    568  my5kcq   \n",
      "13            DOGECOIN DAILY DISCUSSION - 26th April.    543  myt4kq   \n",
      "9             DOGECOIN DAILY DISCUSSION - 27th April.    657  mzkp2w   \n",
      "10             DOGECOIN DAILY DISCUSSION - 28th April    700  n0dwuv   \n",
      "17             DOGECOIN DAILY DISCUSSION - 29th April    350  n11l8k   \n",
      "\n",
      "   subreddit                                                url  num_comments  \\\n",
      "16  dogecoin  https://www.reddit.com/r/dogecoin/comments/l79...         98396   \n",
      "77  dogecoin  https://www.reddit.com/r/dogecoin/comments/l87...         37468   \n",
      "34  dogecoin  https://www.reddit.com/r/dogecoin/comments/lbc...          5131   \n",
      "20  dogecoin  https://www.reddit.com/r/dogecoin/comments/lc2...         16453   \n",
      "33  dogecoin  https://www.reddit.com/r/dogecoin/comments/lcy...          5526   \n",
      "..       ...                                                ...           ...   \n",
      "12  dogecoin  https://www.reddit.com/r/dogecoin/comments/my5...          6349   \n",
      "13  dogecoin  https://www.reddit.com/r/dogecoin/comments/myt...          5120   \n",
      "9   dogecoin  https://www.reddit.com/r/dogecoin/comments/mzk...          8128   \n",
      "10  dogecoin  https://www.reddit.com/r/dogecoin/comments/n0d...          7620   \n",
      "17  dogecoin  https://www.reddit.com/r/dogecoin/comments/n11...          2571   \n",
      "\n",
      "         created                date  \n",
      "16  1.611898e+09 2021-01-28 21:34:55  \n",
      "77  1.611991e+09 2021-01-29 23:19:04  \n",
      "34  1.612345e+09 2021-02-03 01:30:19  \n",
      "20  1.612428e+09 2021-02-04 00:35:33  \n",
      "33  1.612527e+09 2021-02-05 04:03:39  \n",
      "..           ...                 ...  \n",
      "12  1.619375e+09 2021-04-25 10:26:33  \n",
      "13  1.619455e+09 2021-04-26 08:43:21  \n",
      "9   1.619545e+09 2021-04-27 09:38:01  \n",
      "10  1.619642e+09 2021-04-28 12:41:03  \n",
      "17  1.619721e+09 2021-04-29 10:38:05  \n",
      "\n",
      "[79 rows x 8 columns]\n"
     ]
    }
   ],
   "source": [
    "# get threads from sub with keyword in thread title, orders by date, \n",
    "doge_sub = reddit.subreddit('dogecoin')\n",
    "keyword = \"DOGECOIN DAILY DISCUSSION\"\n",
    "resp = doge_sub.search(keyword, limit=100)\n",
    "submissions = []\n",
    "for submission in resp:\n",
    "    if (submission.num_comments) >= 50:\n",
    "     date = datetime.utcfromtimestamp(submission.created_utc)\n",
    "     submissions.append([submission.title, submission.score, submission.id, submission.subreddit, submission.url, submission.num_comments, submission.created, date])\n",
    "submissions = pd.DataFrame(submissions,columns=['title', 'score', 'id', 'subreddit', 'url', 'num_comments', 'created', 'date'])\n",
    "submissions = submissions.sort_values(by='date')\n",
    "#pd.set_option('display.max_rows', None)\n",
    "print(submissions)\n",
    "    "
   ]
  },
  {
   "cell_type": "code",
   "execution_count": 12,
   "id": "74040df9",
   "metadata": {},
   "outputs": [
    {
     "name": "stdout",
     "output_type": "stream",
     "text": [
      "['l79l0p', 'l87icv', 'lbc6w8', 'lc2xmk', 'lcyyee', 'ldp6yo', 'ledqv4', 'lf66ed', 'lfxvc2', 'lgnq76', 'lhew3j', 'li8kff', 'liyuwj', 'ljlo39', 'lkaexc', 'lkyx7z', 'llqicz', 'lmjv22', 'lnbt5a', 'lo3dql', 'los7xa', 'lvagu9', 'lxgcnx', 'ly7hfa', 'lyxdwr', 'lzmqdc', 'm0ce5e', 'm13sf2', 'm1vh6n', 'm2mj5y', 'm3e8am', 'm42q76', 'm4s5ac', 'm5gz5k', 'm64img', 'm6x2kr', 'm7ph0q', 'm8ddb5', 'm94kuo', 'm9th5y', 'majxrg', 'mbaab5', 'mcbvqh', 'md45bb', 'mdkgkf', 'meambw', 'meyluj', 'mflx9u', 'mgbl4t', 'mh242k', 'mhr3ht', 'mih30c', 'mj4zmb', 'mjt1lr', 'mkiu52', 'ml7n9w', 'mlylaq', 'mmqpq1', 'mndg3f', 'mo20gc', 'mooywl', 'mp9v2y', 'mpyxzl', 'mqo3ny', 'mrb62m', 'ms0d0r', 'msowv4', 'mtbinf', 'mu31c0', 'musevq', 'mvkrw9', 'mw0i8g', 'mwsek9', 'mxhcup', 'my5kcq', 'myt4kq', 'mzkp2w', 'n0dwuv', 'n11l8k']\n"
     ]
    }
   ],
   "source": [
    "#for missing dates (1/30-2/2, 2/22-2/28, 3/2 -3/3 use http://redditsearch.io/ for date and mosst commented post)\n",
    "print(submissions['id'].tolist())"
   ]
  },
  {
   "cell_type": "code",
   "execution_count": null,
   "id": "47a29b02",
   "metadata": {},
   "outputs": [],
   "source": [
    "#test sub thread group for comment extraction - PRAW does not handle multithreading\n",
    "'''\n",
    "subReddit = reddit.subreddit('dogecoin').new(limit=0)\n",
    "\n",
    "sub_id_list = submissions['id'].tolist()\n",
    "sub_thread = []\n",
    "for sub_id in range(len(sub_id_list)):\n",
    "    sub_extract = submission(id=sub_id_list[sub_id])\n",
    "    sub_thread.append(sub_extract)\n",
    "    sub_extract.comments.replace_more(limit=0)\n",
    "    \n",
    "    thread_comments = []\n",
    "    for thread_comments in sub_thread:\n",
    "        comment_date = datetime.utcfromtimestamp(thread_comments.created_utc)\n",
    "        thread_comments.append([thread_comments.body, thread_comments.created_utc, comment_date])\n",
    "    \n",
    "    thread_comments = pd.DataFrame(thread_comments, columns=['comment', 'unix_timestamp', 'created_utc'])\n",
    "\n",
    "print(thread_comments)\n",
    "''''''"
   ]
  },
  {
   "cell_type": "code",
   "execution_count": 5,
   "id": "00ed7dad",
   "metadata": {},
   "outputs": [],
   "source": [
    "#check for threads in praw\n",
    "post_ids = ['l79l0p', 'l87icv', 'l8z2er', 'l9my4t', 'laiu4v', 'lbc6w8',\n",
    "            'lc2xmk', 'lcyyee', 'ldp6yo', 'ledqv4', 'lf66ed', 'lfxvc2', 'lgnq76',\n",
    "            'lhew3j', 'li8kff', 'liyuwj', 'ljlo39', 'lkaexc', 'lkyx7z', 'llqicz',\n",
    "            'lmjv22', 'lnbt5a', 'lo3dql', 'los7xa', 'lpl7o7', 'lqa8gm', 'lrpw4w',\n",
    "            'lsk08k', 'lstbh1', 'ltrkyf', 'lu7jnj', 'lvagu9', 'lwfqiv', 'lwppc1',\n",
    "            'lxgcnx', 'ly7hfa', 'lyxdwr', 'lzmqdc', 'm0ce5e', 'm13sf2', 'm1vh6n',\n",
    "            'm2mj5y', 'm3e8am', 'm42q76', 'm4s5ac', 'm5gz5k', 'm64img', 'm6x2kr',\n",
    "            'm7ph0q', 'm8ddb5', 'm94kuo', 'm9th5y', 'majxrg', 'mbaab5', 'mcbvqh',\n",
    "            'md45bb', 'mdkgkf', 'meambw', 'meyluj', 'mflx9u', 'mgbl4t', 'mh242k',\n",
    "            'mhr3ht', 'mih30c', 'mj4zmb', 'mjt1lr', 'mkiu52', 'ml7n9w', 'mlylaq',\n",
    "            'mmqpq1', 'mndg3f', 'mo20gc', 'mooywl', 'mp9v2y', 'mpyxzl', 'mqo3ny',\n",
    "            'mrb62m', 'ms0d0r', 'msowv4', 'mtbinf', 'mu31c0', 'musevq', 'mvkrw9',\n",
    "            'mw0i8g', 'mwsek9', 'mxhcup', 'my5kcq', 'myt4kq', 'mzkp2w']"
   ]
  },
  {
   "cell_type": "code",
   "execution_count": null,
   "id": "ccadbd18",
   "metadata": {},
   "outputs": [],
   "source": [
    "# need to iterate thorugh post ids to add t3 for PRAW \n",
    "#ids2 = [i if i.startswith('t3_') else f't3_{i}' for i in post_ids]\n"
   ]
  },
  {
   "cell_type": "code",
   "execution_count": null,
   "id": "b3ca846e",
   "metadata": {},
   "outputs": [],
   "source": [
    "#comments from one thread post\n",
    "#submission = reddit.submission(url=\"https://www.reddit.com/r/dogecoin/comments/myt4kq/dogecoin_daily_discussion_26th_april/\")\n",
    "submission = reddit.submission(id=\"meambw\")\n",
    "submission.comments.replace_more(limit=0)\n",
    "comments = []\n",
    "for comment in submission.comments:\n",
    "    date = datetime.utcfromtimestamp(comment.created_utc)\n",
    "    comments.append([comment.body, comment.created_utc, date])\n",
    "comments = pd.DataFrame(comments, columns=['comment', 'unix_timestamp', 'created_utc'])\n",
    "#pd.set_option('display.max_colwidth', None)\n",
    "print(comments)\n"
   ]
  },
  {
   "cell_type": "code",
   "execution_count": null,
   "id": "4bd13c76",
   "metadata": {},
   "outputs": [],
   "source": [
    "submission = reddit.submission(id=\"meambw\")\n",
    "submission.comments.replace_more(limit=0)\n",
    "comments_meambw = []\n",
    "for comment in submission.comments:\n",
    "    date = datetime.utcfromtimestamp(comment.created_utc)\n",
    "    comments.append([comment.body, comment.created_utc, date])"
   ]
  },
  {
   "cell_type": "code",
   "execution_count": null,
   "id": "3c75f71a",
   "metadata": {},
   "outputs": [],
   "source": [
    "submission = reddit.submission(id=\"lcyyee\")\n",
    "submission.comments.replace_more(limit=0)\n",
    "comments_lcyyee = []\n",
    "for comment in submission.comments:\n",
    "    date = datetime.utcfromtimestamp(comment.created_utc)\n",
    "    comments_lcyyee.append([comment.body, comment.created_utc, date])"
   ]
  },
  {
   "cell_type": "code",
   "execution_count": null,
   "id": "bf568c96",
   "metadata": {},
   "outputs": [],
   "source": [
    "'ldp6yo'"
   ]
  },
  {
   "cell_type": "code",
   "execution_count": null,
   "id": "5a4deaf9",
   "metadata": {},
   "outputs": [],
   "source": [
    "from vaderSentiment.vaderSentiment import SentimentIntensityAnalyzer "
   ]
  },
  {
   "cell_type": "code",
   "execution_count": null,
   "id": "7f13bad0",
   "metadata": {},
   "outputs": [],
   "source": [
    "comments_list = top_comments['comment'].tolist()\n",
    "analyzer = SentimentIntensityAnalyzer()\n",
    "p_scores = []\n",
    "neg_scores = []\n",
    "neu_scores = []\n",
    "pos_scores = []\n",
    "for i in range(len(comments_list)):\n",
    "    vs = analyzer.polarity_scores(comments_list[i])['compound']\n",
    "    neg = analyzer.polarity_scores(comments_list[i])['neg']\n",
    "    neu = analyzer.polarity_scores(comments_list[i])['neu']\n",
    "    pos = analyzer.polarity_scores(comments_list[i])['pos']\n",
    "    \n",
    "    p_scores.append(vs)\n",
    "    neg_scores.append(neg)\n",
    "    neu_scores.append(neu)\n",
    "    pos_scores.append(pos)\n",
    "    \n",
    "    print (\"{:-<65} {}\".format(comments_list[i], str(vs)))"
   ]
  },
  {
   "cell_type": "code",
   "execution_count": null,
   "id": "1e677a86",
   "metadata": {},
   "outputs": [],
   "source": [
    "top_comments['polarity score'] = p_scores\n",
    "top_comments['negative score'] = neg_scores\n",
    "top_comments['neutral score'] = neu_scores\n",
    "top_comments['positive score'] = pos_scores\n",
    "print(top_comments)"
   ]
  },
  {
   "cell_type": "code",
   "execution_count": null,
   "id": "baf6a630",
   "metadata": {},
   "outputs": [],
   "source": [
    "#comment rating\n",
    "score = []\n",
    "for value in top_comments['polarity score']:\n",
    "    if value >= 0.05:\n",
    "        score.append('Positive')\n",
    "    elif value <= - 0.05:\n",
    "        score.append('Negative')\n",
    "    else:\n",
    "        score.append('Neutral')\n",
    "        \n",
    "top_comments[\"Comment Score\"] = score\n",
    "print(top_comments)"
   ]
  },
  {
   "cell_type": "code",
   "execution_count": null,
   "id": "cfae9731",
   "metadata": {},
   "outputs": [],
   "source": [
    "top_comments.to_csv(\"reddit_comment_instance.csv\", index=True)"
   ]
  },
  {
   "cell_type": "code",
   "execution_count": null,
   "id": "c4d323f2",
   "metadata": {},
   "outputs": [],
   "source": [
    "'''for comment attributes\n",
    "\n",
    "submission = reddit.submission(id=\"39zje0\")\n",
    "print(submission.title)  # to make it non-lazy\n",
    "pprint.pprint(vars(submission))\n",
    "\n",
    "'''"
   ]
  }
 ],
 "metadata": {
  "kernelspec": {
   "display_name": "Python [conda env:PythonAdv] *",
   "language": "python",
   "name": "conda-env-PythonAdv-py"
  },
  "language_info": {
   "codemirror_mode": {
    "name": "ipython",
    "version": 3
   },
   "file_extension": ".py",
   "mimetype": "text/x-python",
   "name": "python",
   "nbconvert_exporter": "python",
   "pygments_lexer": "ipython3",
   "version": "3.6.13"
  }
 },
 "nbformat": 4,
 "nbformat_minor": 5
}
