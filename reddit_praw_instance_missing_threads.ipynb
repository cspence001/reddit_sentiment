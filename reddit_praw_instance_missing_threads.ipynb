{
 "cells": [
  {
   "cell_type": "code",
   "execution_count": null,
   "id": "23bf5369",
   "metadata": {},
   "outputs": [],
   "source": [
    "pip install praw"
   ]
  },
  {
   "cell_type": "code",
   "execution_count": 1,
   "id": "c7ee2e7c",
   "metadata": {},
   "outputs": [],
   "source": [
    "import praw\n",
    "import pandas as pd\n",
    "import pprint\n",
    "from datetime import datetime\n",
    "import requests\n",
    "import json"
   ]
  },
  {
   "cell_type": "code",
   "execution_count": 2,
   "id": "c812da09",
   "metadata": {},
   "outputs": [],
   "source": [
    "reddit = praw.Reddit(client_id='UBPjp9_uuqjtNg', client_secret='J-rkLt0rQF9G27jDEuO3TQvmTbHAjQ', user_agent='doge_senti')"
   ]
  },
  {
   "cell_type": "code",
   "execution_count": 5,
   "id": "00ed7dad",
   "metadata": {},
   "outputs": [],
   "source": [
    "#check for threads in praw\n",
    "post_ids = ['l79l0p', 'l87icv', 'l8z2er', 'l9my4t', 'laiu4v', 'lbc6w8',\n",
    "            'lc2xmk', 'lcyyee', 'ldp6yo', 'ledqv4', 'lf66ed', 'lfxvc2', 'lgnq76',\n",
    "            'lhew3j', 'li8kff', 'liyuwj', 'ljlo39', 'lkaexc', 'lkyx7z', 'llqicz',\n",
    "            'lmjv22', 'lnbt5a', 'lo3dql', 'los7xa', 'lpl7o7', 'lqa8gm', 'lrpw4w',\n",
    "            'lsk08k', 'lstbh1', 'ltrkyf', 'lu7jnj', 'lvagu9', 'lwfqiv', 'lwppc1',\n",
    "            'lxgcnx', 'ly7hfa', 'lyxdwr', 'lzmqdc', 'm0ce5e', 'm13sf2', 'm1vh6n',\n",
    "            'm2mj5y', 'm3e8am', 'm42q76', 'm4s5ac', 'm5gz5k', 'm64img', 'm6x2kr',\n",
    "            'm7ph0q', 'm8ddb5', 'm94kuo', 'm9th5y', 'majxrg', 'mbaab5', 'mcbvqh',\n",
    "            'md45bb', 'mdkgkf', 'meambw', 'meyluj', 'mflx9u', 'mgbl4t', 'mh242k',\n",
    "            'mhr3ht', 'mih30c', 'mj4zmb', 'mjt1lr', 'mkiu52', 'ml7n9w', 'mlylaq',\n",
    "            'mmqpq1', 'mndg3f', 'mo20gc', 'mooywl', 'mp9v2y', 'mpyxzl', 'mqo3ny',\n",
    "            'mrb62m', 'ms0d0r', 'msowv4', 'mtbinf', 'mu31c0', 'musevq', 'mvkrw9',\n",
    "            'mw0i8g', 'mwsek9', 'mxhcup', 'my5kcq', 'myt4kq', 'mzkp2w']"
   ]
  },
  {
   "cell_type": "code",
   "execution_count": null,
   "id": "b3ca846e",
   "metadata": {},
   "outputs": [],
   "source": [
    "#comments from one thread post\n",
    "#submission = reddit.submission(url=\"https://www.reddit.com/r/dogecoin/comments/myt4kq/dogecoin_daily_discussion_26th_april/\")\n",
    "submission = reddit.submission(id=\"meambw\")\n",
    "submission.comments.replace_more(limit=0)\n",
    "comments = []\n",
    "for comment in submission.comments:\n",
    "    date = datetime.utcfromtimestamp(comment.created_utc)\n",
    "    comments.append([comment.body, comment.created_utc, date])\n",
    "comments = pd.DataFrame(comments, columns=['comment', 'unix_timestamp', 'created_utc'])\n",
    "#pd.set_option('display.max_colwidth', None)\n",
    "print(comments)\n"
   ]
  },
  {
   "cell_type": "code",
   "execution_count": null,
   "id": "4bd13c76",
   "metadata": {},
   "outputs": [],
   "source": [
    "submission = reddit.submission(id=\"meambw\")\n",
    "submission.comments.replace_more(limit=0)\n",
    "comments_meambw = []\n",
    "for comment in submission.comments:\n",
    "    date = datetime.utcfromtimestamp(comment.created_utc)\n",
    "    comments.append([comment.body, comment.created_utc, date])"
   ]
  },
  {
   "cell_type": "code",
   "execution_count": null,
   "id": "3c75f71a",
   "metadata": {},
   "outputs": [],
   "source": [
    "submission = reddit.submission(id=\"lcyyee\")\n",
    "submission.comments.replace_more(limit=0)\n",
    "comments_lcyyee = []\n",
    "for comment in submission.comments:\n",
    "    date = datetime.utcfromtimestamp(comment.created_utc)\n",
    "    comments_lcyyee.append([comment.body, comment.created_utc, date])"
   ]
  },
  {
   "cell_type": "code",
   "execution_count": null,
   "id": "bf568c96",
   "metadata": {},
   "outputs": [],
   "source": []
  },
  {
   "cell_type": "code",
   "execution_count": null,
   "id": "5a4deaf9",
   "metadata": {},
   "outputs": [],
   "source": [
    "from vaderSentiment.vaderSentiment import SentimentIntensityAnalyzer "
   ]
  },
  {
   "cell_type": "code",
   "execution_count": null,
   "id": "7f13bad0",
   "metadata": {},
   "outputs": [],
   "source": [
    "comments_list = top_comments['comment'].tolist()\n",
    "analyzer = SentimentIntensityAnalyzer()\n",
    "p_scores = []\n",
    "neg_scores = []\n",
    "neu_scores = []\n",
    "pos_scores = []\n",
    "for i in range(len(comments_list)):\n",
    "    vs = analyzer.polarity_scores(comments_list[i])['compound']\n",
    "    neg = analyzer.polarity_scores(comments_list[i])['neg']\n",
    "    neu = analyzer.polarity_scores(comments_list[i])['neu']\n",
    "    pos = analyzer.polarity_scores(comments_list[i])['pos']\n",
    "    \n",
    "    p_scores.append(vs)\n",
    "    neg_scores.append(neg)\n",
    "    neu_scores.append(neu)\n",
    "    pos_scores.append(pos)\n",
    "    \n",
    "    print (\"{:-<65} {}\".format(comments_list[i], str(vs)))"
   ]
  },
  {
   "cell_type": "code",
   "execution_count": null,
   "id": "1e677a86",
   "metadata": {},
   "outputs": [],
   "source": [
    "top_comments['polarity score'] = p_scores\n",
    "top_comments['negative score'] = neg_scores\n",
    "top_comments['neutral score'] = neu_scores\n",
    "top_comments['positive score'] = pos_scores\n",
    "print(top_comments)"
   ]
  },
  {
   "cell_type": "code",
   "execution_count": null,
   "id": "baf6a630",
   "metadata": {},
   "outputs": [],
   "source": [
    "#comment rating\n",
    "score = []\n",
    "for value in top_comments['polarity score']:\n",
    "    if value >= 0.05:\n",
    "        score.append('Positive')\n",
    "    elif value <= - 0.05:\n",
    "        score.append('Negative')\n",
    "    else:\n",
    "        score.append('Neutral')\n",
    "        \n",
    "top_comments[\"Comment Score\"] = score\n",
    "print(top_comments)"
   ]
  },
  {
   "cell_type": "code",
   "execution_count": null,
   "id": "cfae9731",
   "metadata": {},
   "outputs": [],
   "source": [
    "top_comments.to_csv(\"reddit_comment_instance.csv\", index=True)"
   ]
  }
 ],
 "metadata": {
  "kernelspec": {
   "display_name": "Python [conda env:PythonAdv] *",
   "language": "python",
   "name": "conda-env-PythonAdv-py"
  },
  "language_info": {
   "codemirror_mode": {
    "name": "ipython",
    "version": 3
   },
   "file_extension": ".py",
   "mimetype": "text/x-python",
   "name": "python",
   "nbconvert_exporter": "python",
   "pygments_lexer": "ipython3",
   "version": "3.6.13"
  }
 },
 "nbformat": 4,
 "nbformat_minor": 5
}
