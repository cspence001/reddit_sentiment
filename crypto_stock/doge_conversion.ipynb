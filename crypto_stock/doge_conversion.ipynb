{
 "cells": [
  {
   "cell_type": "code",
   "execution_count": 2,
   "id": "e1b804c1",
   "metadata": {},
   "outputs": [],
   "source": [
    "from datetime import datetime\n",
    "import pandas as pd"
   ]
  },
  {
   "cell_type": "code",
   "execution_count": 4,
   "id": "fcefd493",
   "metadata": {},
   "outputs": [
    {
     "name": "stdout",
     "output_type": "stream",
     "text": [
      "      Unnamed: 0      timestamp     price                 datetime\n",
      "0              0  1611594303094  0.008531  2021-01-25 17:05:03.094\n",
      "1              1  1611597858306  0.008553  2021-01-25 18:04:18.306\n",
      "2              2  1611602395122  0.008500  2021-01-25 19:19:55.122\n",
      "3              3  1611606208588  0.008478  2021-01-25 20:23:28.588\n",
      "4              4  1611609289354  0.008454  2021-01-25 21:14:49.354\n",
      "...          ...            ...       ...                      ...\n",
      "2109        2109  1619175815683  0.242937  2021-04-23 11:03:35.683\n",
      "2110        2110  1619179585625  0.242920  2021-04-23 12:06:25.625\n",
      "2111        2111  1619183258075  0.225021  2021-04-23 13:07:38.075\n",
      "2112        2112  1619186630900  0.221084  2021-04-23 14:03:50.900\n",
      "2113        2113  1619190293945  0.231577  2021-04-23 15:04:53.945\n",
      "\n",
      "[2114 rows x 4 columns]\n"
     ]
    }
   ],
   "source": [
    "df = pd.read_csv(\"dogecoin.csv\")\n",
    "print(df)"
   ]
  },
  {
   "cell_type": "code",
   "execution_count": 9,
   "id": "e4a79df2",
   "metadata": {},
   "outputs": [
    {
     "name": "stdout",
     "output_type": "stream",
     "text": [
      "      Unnamed: 0      timestamp     price                 datetime  \\\n",
      "0              0  1611594303094  0.008531  2021-01-25 17:05:03.094   \n",
      "1              1  1611597858306  0.008553  2021-01-25 18:04:18.306   \n",
      "2              2  1611602395122  0.008500  2021-01-25 19:19:55.122   \n",
      "3              3  1611606208588  0.008478  2021-01-25 20:23:28.588   \n",
      "4              4  1611609289354  0.008454  2021-01-25 21:14:49.354   \n",
      "...          ...            ...       ...                      ...   \n",
      "2109        2109  1619175815683  0.242937  2021-04-23 11:03:35.683   \n",
      "2110        2110  1619179585625  0.242920  2021-04-23 12:06:25.625   \n",
      "2111        2111  1619183258075  0.225021  2021-04-23 13:07:38.075   \n",
      "2112        2112  1619186630900  0.221084  2021-04-23 14:03:50.900   \n",
      "2113        2113  1619190293945  0.231577  2021-04-23 15:04:53.945   \n",
      "\n",
      "                    date  \n",
      "0    2021-01-25 17:05:03  \n",
      "1    2021-01-25 18:04:18  \n",
      "2    2021-01-25 19:19:55  \n",
      "3    2021-01-25 20:23:28  \n",
      "4    2021-01-25 21:14:49  \n",
      "...                  ...  \n",
      "2109 2021-04-23 11:03:35  \n",
      "2110 2021-04-23 12:06:25  \n",
      "2111 2021-04-23 13:07:38  \n",
      "2112 2021-04-23 14:03:50  \n",
      "2113 2021-04-23 15:04:53  \n",
      "\n",
      "[2114 rows x 5 columns]\n"
     ]
    }
   ],
   "source": [
    "\n",
    "dates = []\n",
    "for date in df['timestamp']:\n",
    "    datetime2 = datetime.utcfromtimestamp(date //1000)\n",
    "    dates.append(datetime2)\n",
    "\n",
    "df['date'] = dates\n",
    "print(df)"
   ]
  },
  {
   "cell_type": "code",
   "execution_count": null,
   "id": "cfec391d",
   "metadata": {},
   "outputs": [],
   "source": []
  }
 ],
 "metadata": {
  "kernelspec": {
   "display_name": "Python [conda env:PythonAdv] *",
   "language": "python",
   "name": "conda-env-PythonAdv-py"
  },
  "language_info": {
   "codemirror_mode": {
    "name": "ipython",
    "version": 3
   },
   "file_extension": ".py",
   "mimetype": "text/x-python",
   "name": "python",
   "nbconvert_exporter": "python",
   "pygments_lexer": "ipython3",
   "version": "3.6.13"
  }
 },
 "nbformat": 4,
 "nbformat_minor": 5
}
