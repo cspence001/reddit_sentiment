{
 "cells": [
  {
   "cell_type": "code",
   "execution_count": 1,
   "id": "54a286e0",
   "metadata": {},
   "outputs": [
    {
     "name": "stdout",
     "output_type": "stream",
     "text": [
      "Requirement already satisfied: psaw in /opt/anaconda3/envs/PythonAdv/lib/python3.6/site-packages (0.1.0)\n",
      "Requirement already satisfied: Click in /opt/anaconda3/envs/PythonAdv/lib/python3.6/site-packages (from psaw) (7.1.2)\n",
      "Requirement already satisfied: requests in /opt/anaconda3/envs/PythonAdv/lib/python3.6/site-packages (from psaw) (2.25.1)\n",
      "Requirement already satisfied: chardet<5,>=3.0.2 in /opt/anaconda3/envs/PythonAdv/lib/python3.6/site-packages (from requests->psaw) (4.0.0)\n",
      "Requirement already satisfied: certifi>=2017.4.17 in /opt/anaconda3/envs/PythonAdv/lib/python3.6/site-packages (from requests->psaw) (2020.12.5)\n",
      "Requirement already satisfied: urllib3<1.27,>=1.21.1 in /opt/anaconda3/envs/PythonAdv/lib/python3.6/site-packages (from requests->psaw) (1.26.4)\n",
      "Requirement already satisfied: idna<3,>=2.5 in /opt/anaconda3/envs/PythonAdv/lib/python3.6/site-packages (from requests->psaw) (2.10)\n",
      "Note: you may need to restart the kernel to use updated packages.\n"
     ]
    }
   ],
   "source": [
    "pip install psaw"
   ]
  },
  {
   "cell_type": "code",
   "execution_count": 2,
   "id": "9a03adca",
   "metadata": {},
   "outputs": [],
   "source": [
    "from psaw import PushshiftAPI\n",
    "import numpy as np\n",
    "import pandas as pd\n",
    "import requests\n",
    "import json\n",
    "\n",
    "api = PushshiftAPI()"
   ]
  },
  {
   "cell_type": "code",
   "execution_count": 3,
   "id": "67e9d02a",
   "metadata": {},
   "outputs": [],
   "source": [
    "post_ids = ['l79l0p', 'l87icv', 'l8z2er', 'l9my4t', 'laiu4v', 'lbc6w8',\n",
    "            'lc2xmk', 'lcyyee', 'ldp6yo', 'ledqv4', 'lf66ed', 'lfxvc2', 'lgnq76',\n",
    "            'lhew3j', 'li8kff', 'liyuwj', 'ljlo39', 'lkaexc', 'lkyx7z', 'llqicz',\n",
    "            'lmjv22', 'lnbt5a', 'lo3dql', 'los7xa', 'lpl7o7', 'lqa8gm', 'lrpw4w',\n",
    "            'lsk08k', 'lstbh1', 'ltrkyf', 'lu7jnj', 'lvagu9', 'lwfqiv', 'lwppc1',\n",
    "            'lxgcnx', 'ly7hfa', 'lyxdwr', 'lzmqdc', 'm0ce5e', 'm13sf2', 'm1vh6n',\n",
    "            'm2mj5y', 'm3e8am', 'm42q76', 'm4s5ac', 'm5gz5k', 'm64img', 'm6x2kr',\n",
    "            'm7ph0q', 'm8ddb5', 'm94kuo', 'm9th5y', 'majxrg', 'mbaab5', 'mcbvqh',\n",
    "            'md45bb', 'mdkgkf', 'meambw', 'meyluj', 'mflx9u', 'mgbl4t', 'mh242k',\n",
    "            'mhr3ht', 'mih30c', 'mj4zmb', 'mjt1lr', 'mkiu52', 'ml7n9w', 'mlylaq',\n",
    "            'mmqpq1', 'mndg3f', 'mo20gc', 'mooywl', 'mp9v2y', 'mpyxzl', 'mqo3ny',\n",
    "            'mrb62m', 'ms0d0r', 'msowv4', 'mtbinf', 'mu31c0', 'musevq', 'mvkrw9',\n",
    "            'mw0i8g', 'mwsek9', 'mxhcup', 'my5kcq', 'myt4kq', 'mzkp2w']"
   ]
  },
  {
   "cell_type": "code",
   "execution_count": 9,
   "id": "680139fe",
   "metadata": {},
   "outputs": [
    {
     "name": "stdout",
     "output_type": "stream",
     "text": [
      "    comments  score      id\n",
      "0        591    148  ly7hfa\n",
      "1        696      1  m2mj5y\n",
      "2       6705      1  lfxvc2\n",
      "3        454      1  mmqpq1\n",
      "4       3694      1  lmjv22\n",
      "..       ...    ...     ...\n",
      "61      1588  22094  lsk08k\n",
      "62     24140      1  msowv4\n",
      "63      9977      1  mvkrw9\n",
      "64     38486      1  musevq\n",
      "65       262      1  mflx9u\n",
      "\n",
      "[66 rows x 3 columns]\n"
     ]
    }
   ],
   "source": [
    "\n",
    "submissions = []\n",
    "\n",
    "for i in range(0,len(post_ids),1000):\n",
    "    ids = \",\".join(post_ids[i:i+1000])\n",
    "    url = \"https://api.pushshift.io/reddit/search/submission/?ids={}&fields=score,num_comments,id\".format(ids)\n",
    "    r = requests.get(url)\n",
    "    data = json.loads(r.text)[\"data\"]\n",
    "\n",
    "    for submission in data:\n",
    "        submissions.append([submission['num_comments'], submission['score'], submission['id']])\n",
    "submissions = pd.DataFrame(submissions,columns=['comments', 'score', 'id'])\n",
    "print(submissions)"
   ]
  },
  {
   "cell_type": "code",
   "execution_count": null,
   "id": "517ada3e",
   "metadata": {},
   "outputs": [],
   "source": [
    "#missing threads in pushshift\n",
    "missing_threads = ['lcyyee',\n",
    "'ldp6yo',\n",
    "'ledqv4',\n",
    "'lf66ed',\n",
    "'lvagu9',\n",
    "'lyxdwr',\n",
    "'lzmqdc',\n",
    "'m0ce5e',\n",
    "'m7ph0q',\n",
    "'m8ddb5',\n",
    "'m94kuo',\n",
    "'m9th5y',\n",
    "'majxrg',\n",
    "'mbaab5',\n",
    "'mcbvqh',\n",
    "'md45bb',\n",
    "'mdkgkf',\n",
    "'meambw',\n",
    "'mhr3ht',\n",
    "'mo20gc',\n",
    "'mooywl',\n",
    "'mp9v2y',\n",
    "'mpyxzl']"
   ]
  }
 ],
 "metadata": {
  "kernelspec": {
   "display_name": "Python 3",
   "language": "python",
   "name": "python3"
  },
  "language_info": {
   "codemirror_mode": {
    "name": "ipython",
    "version": 3
   },
   "file_extension": ".py",
   "mimetype": "text/x-python",
   "name": "python",
   "nbconvert_exporter": "python",
   "pygments_lexer": "ipython3",
   "version": "3.6.13"
  }
 },
 "nbformat": 4,
 "nbformat_minor": 5
}
