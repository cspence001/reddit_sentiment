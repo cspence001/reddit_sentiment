{
 "cells": [
  {
   "cell_type": "code",
   "execution_count": 166,
   "metadata": {},
   "outputs": [],
   "source": [
    "import pandas as pd\n",
    "import requests\n",
    "import datetime as dt"
   ]
  },
  {
   "cell_type": "code",
   "execution_count": 167,
   "metadata": {},
   "outputs": [
    {
     "name": "stdout",
     "output_type": "stream",
     "text": [
      "['16-04-2021', '17-04-2021', '18-04-2021', '19-04-2021', '20-04-2021', '21-04-2021', '22-04-2021', '23-04-2021']\n"
     ]
    }
   ],
   "source": [
    "import datetime as dt\n",
    "b = []\n",
    "\n",
    "def daterange(date1, date2):\n",
    "    for n in range(int ((date2 - date1).days)+1):\n",
    "        yield date1 + dt.timedelta(n)\n",
    "\n",
    "end = dt.date(2021, 4, 23)\n",
    "start = dt.date(2021, 4, 16)\n",
    "for a in daterange(start, end):\n",
    "    b.append(a.strftime(\"%d-%m-%Y\"))\n",
    "print(b)"
   ]
  },
  {
   "cell_type": "code",
   "execution_count": 168,
   "metadata": {},
   "outputs": [],
   "source": [
    "url = \"https://api.coingecko.com/api/v3/coins/dogecoin/market_chart/range?vs_currency=usd&from=1611594101&to=1619193701\"\n",
    "c = requests.get(url).json()\n"
   ]
  },
  {
   "cell_type": "code",
   "execution_count": 169,
   "metadata": {},
   "outputs": [
    {
     "name": "stdout",
     "output_type": "stream",
     "text": [
      "                   0                       1\n",
      "0     [1611594303094   0.008530866247265992]\n",
      "1     [1611597858306    0.00855313501727671]\n",
      "2     [1611602395122   0.008499637100833023]\n",
      "3     [1611606208588   0.008477597315980084]\n",
      "4     [1611609289354    0.00845408573531732]\n",
      "...              ...                     ...\n",
      "2109  [1619175815683    0.24293724549386447]\n",
      "2110  [1619179585625    0.24292007006455443]\n",
      "2111  [1619183258075    0.22502125092593847]\n",
      "2112  [1619186630900    0.22108449319026596]\n",
      "2113  [1619190293945    0.23157691926433008]\n",
      "\n",
      "[2114 rows x 2 columns]\n"
     ]
    }
   ],
   "source": [
    "d = pd.DataFrame(c)\n",
    "f = pd.DataFrame(d['prices'])\n",
    "g = f.applymap(str)\n",
    "e = g['prices'].str.split(',', expand=True)\n",
    "print(e)"
   ]
  },
  {
   "cell_type": "code",
   "execution_count": 170,
   "metadata": {},
   "outputs": [],
   "source": [
    "e.columns = ['timestamp', 'price']\n",
    "e['timestamp'] = e['timestamp'].str[1:]\n",
    "e['price'] = e['price'].str[:-1]\n",
    "e['price'] = pd.to_numeric(e['price'])\n",
    "e['timestamp'] = pd.to_numeric(e['timestamp'])"
   ]
  },
  {
   "cell_type": "code",
   "execution_count": 171,
   "metadata": {},
   "outputs": [],
   "source": [
    "e['datetime'] = e['timestamp']\n",
    "e['datetime'] = pd.to_datetime(e['datetime'], unit='ms')"
   ]
  },
  {
   "cell_type": "code",
   "execution_count": 172,
   "metadata": {},
   "outputs": [
    {
     "name": "stdout",
     "output_type": "stream",
     "text": [
      "          timestamp     price            datetime\n",
      "0     1611594303094  0.008531 2021-01-25 17:05:03\n",
      "1     1611597858306  0.008553 2021-01-25 18:04:18\n",
      "2     1611602395122  0.008500 2021-01-25 19:19:55\n",
      "3     1611606208588  0.008478 2021-01-25 20:23:28\n",
      "4     1611609289354  0.008454 2021-01-25 21:14:49\n",
      "...             ...       ...                 ...\n",
      "2109  1619175815683  0.242937 2021-04-23 11:03:35\n",
      "2110  1619179585625  0.242920 2021-04-23 12:06:25\n",
      "2111  1619183258075  0.225021 2021-04-23 13:07:38\n",
      "2112  1619186630900  0.221084 2021-04-23 14:03:50\n",
      "2113  1619190293945  0.231577 2021-04-23 15:04:53\n",
      "\n",
      "[2114 rows x 3 columns]\n"
     ]
    }
   ],
   "source": [
    "e['datetime'] = e['datetime'].astype(str)\n",
    "e['datetime'] = e['datetime'].str[:-4]\n",
    "e['datetime'] = pd.to_datetime(e['datetime'])\n",
    "print(e)"
   ]
  },
  {
   "cell_type": "code",
   "execution_count": 82,
   "metadata": {},
   "outputs": [],
   "source": [
    "#print(d)"
   ]
  },
  {
   "cell_type": "code",
   "execution_count": 83,
   "metadata": {},
   "outputs": [
    {
     "name": "stdout",
     "output_type": "stream",
     "text": [
      "        Unnamed: 0                                               body  \\\n",
      "0                0  When are the deposits suppose to hit? Do you h...   \n",
      "1                1                                             Wow 😂😂   \n",
      "2                2  Everyone from fomo Tuesday last week will star...   \n",
      "3                3             Use Uphold app to purchase more doge !   \n",
      "4                4                  200k @ 0.007 been holding strong!   \n",
      "...            ...                                                ...   \n",
      "521847      521847                           Give Eth a glass of milk   \n",
      "521848      521848                         we have each other, right?   \n",
      "521849      521849  It seems like a lot of people are thinking we’...   \n",
      "521850      521850  Last night watching ADA rise I was stressing o...   \n",
      "521851      521851          This Eth ratio just keeps on dipping holy   \n",
      "\n",
      "         created_utc   parent_id                 date  polarity score  \\\n",
      "0       1.612233e+09  t1_glolysj  2021-02-02 02:32:22          0.0000   \n",
      "1       1.612233e+09  t1_glom3c7  2021-02-02 02:32:38          0.8625   \n",
      "2       1.612233e+09  t1_glolmuy  2021-02-02 02:32:48          0.0000   \n",
      "3       1.612233e+09   t3_laiu4v  2021-02-02 02:33:02          0.0000   \n",
      "4       1.612233e+09   t3_laiu4v  2021-02-02 02:33:08          0.5562   \n",
      "...              ...         ...                  ...             ...   \n",
      "521847  1.614493e+09   t3_lu0lxv  2021-02-28 06:12:26          0.0000   \n",
      "521848  1.614493e+09   t3_lu0lxv  2021-02-28 06:10:30          0.0000   \n",
      "521849  1.614568e+09   t3_lu0lxv  2021-03-01 03:01:40          0.4996   \n",
      "521850  1.614492e+09   t3_lu0lxv  2021-02-28 05:52:31         -0.1779   \n",
      "521851  1.614491e+09   t3_lu0lxv  2021-02-28 05:50:50          0.0000   \n",
      "\n",
      "        negative score  neutral score  positive score Comment Score  \n",
      "0                0.000          1.000           0.000       Neutral  \n",
      "1                0.179          0.283           0.538      Positive  \n",
      "2                0.000          1.000           0.000       Neutral  \n",
      "3                0.000          1.000           0.000       Neutral  \n",
      "4                0.000          0.582           0.418      Positive  \n",
      "...                ...            ...             ...           ...  \n",
      "521847           0.000          1.000           0.000       Neutral  \n",
      "521848           0.000          1.000           0.000       Neutral  \n",
      "521849           0.048          0.821           0.131      Positive  \n",
      "521850           0.130          0.749           0.122      Negative  \n",
      "521851           0.000          1.000           0.000       Neutral  \n",
      "\n",
      "[521852 rows x 10 columns]\n"
     ]
    }
   ],
   "source": [
    "p = pd.read_csv(\"/Users/alexandergoldstein/Downloads/total_reddit_comments copy.csv\")\n",
    "q = pd.DataFrame(p)\n",
    "print(q)"
   ]
  },
  {
   "cell_type": "code",
   "execution_count": 157,
   "metadata": {},
   "outputs": [],
   "source": [
    "q = q.dropna()\n",
    "h = q[['date', 'negative score']]\n",
    "h = pd.DataFrame(h)\n",
    "i = q[['date', 'neutral score']]\n",
    "i = pd.DataFrame(i)\n",
    "j = q[['date', 'positive score']]\n",
    "j = pd.DataFrame(j)"
   ]
  },
  {
   "cell_type": "code",
   "execution_count": 158,
   "metadata": {},
   "outputs": [],
   "source": [
    "k = h.groupby(['date'], as_index=False).mean()\n",
    "l = i.groupby(['date'], as_index=False).mean()\n",
    "m = j.groupby(['date'], as_index=False).mean()"
   ]
  },
  {
   "cell_type": "code",
   "execution_count": 159,
   "metadata": {},
   "outputs": [
    {
     "name": "stdout",
     "output_type": "stream",
     "text": [
      "                       date  negative score  neutral score  positive score\n",
      "0       2021-01-28 21:35:23             0.0          0.303           0.697\n",
      "1       2021-01-28 21:35:25             0.0          1.000           0.000\n",
      "2       2021-01-28 21:35:30             0.0          1.000           0.000\n",
      "3       2021-01-28 21:35:37             0.0          1.000           0.000\n",
      "4       2021-01-28 21:36:08             0.0          1.000           0.000\n",
      "...                     ...             ...            ...             ...\n",
      "420209  2021-04-30 10:03:31             0.0          0.588           0.412\n",
      "420210  2021-04-30 10:04:00             0.0          0.767           0.233\n",
      "420211  2021-04-30 11:49:24             0.0          1.000           0.000\n",
      "420212  2021-04-30 12:40:04             0.0          1.000           0.000\n",
      "420213  2021-04-30 13:32:04             0.0          0.603           0.397\n",
      "\n",
      "[420214 rows x 4 columns]\n"
     ]
    }
   ],
   "source": [
    "n = k.join(l['neutral score'])\n",
    "o = n.join(m['positive score'])\n",
    "print(o)"
   ]
  },
  {
   "cell_type": "code",
   "execution_count": 182,
   "metadata": {},
   "outputs": [
    {
     "name": "stdout",
     "output_type": "stream",
     "text": [
      "2114\n"
     ]
    }
   ],
   "source": [
    "o['date'] = o['date'].astype(str)\n",
    "o['date'] = o['date'].str[:-6]\n",
    "o['date'] = pd.to_datetime(o['date'])\n",
    "e['datetime'] = e['datetime'].astype(str)\n",
    "e['datetime'] = e['datetime'].str[:-6]\n",
    "e['datetime'] = pd.to_datetime(e['datetime'])\n",
    "w = o.groupby(['date'], as_index=False).mean()\n",
    "e['date'] = e['datetime']\n",
    "x = e.drop(['datetime'], axis=1)\n",
    "x.set_index(['date'], inplace=True)\n",
    "w.set_index(['date'], inplace=True)\n",
    "\n",
    "y = x.join(w)\n",
    "y.dropna()\n",
    "print(len(y))"
   ]
  },
  {
   "cell_type": "code",
   "execution_count": 190,
   "metadata": {},
   "outputs": [],
   "source": [
    "y.to_csv('anger.csv')"
   ]
  },
  {
   "cell_type": "code",
   "execution_count": 251,
   "metadata": {},
   "outputs": [],
   "source": [
    "#data cleaned in R\n",
    "u = pd.read_csv(\"/Users/alexandergoldstein/Desktop/joy.csv\")\n",
    "v = pd.DataFrame(u)\n",
    "v.columns = [\"noname\", \"date\", \"timestamp\", \"price\", \"negative_score\", \"neutral_score\", \"positive_score\", \"check\", \"price_change\"]\n",
    "s = v.price_change.values.reshape(-1, 1)\n",
    "t = v.negative_score.values.reshape(-1, 1)"
   ]
  },
  {
   "cell_type": "code",
   "execution_count": 252,
   "metadata": {},
   "outputs": [
    {
     "name": "stdout",
     "output_type": "stream",
     "text": [
      "-0.01101439094604828\n"
     ]
    }
   ],
   "source": [
    "from sklearn.metrics import mean_squared_error, r2_score\n",
    "from sklearn.model_selection import train_test_split as tts\n",
    "from sklearn.linear_model import LinearRegression as lm\n",
    "X_train, X_test, y_train, y_test = tts(s, t, random_state=42)\n",
    "ae = lm()\n",
    "ae.fit(X_train, y_train)\n",
    "z = ae.predict(X_test)\n",
    "aa = mean_squared_error(y_test, z)\n",
    "ab = r2_score(y_test, z)\n",
    "\n",
    "ac = ae.score(X_test, y_test)\n",
    "print(ac)"
   ]
  },
  {
   "cell_type": "code",
   "execution_count": 224,
   "metadata": {},
   "outputs": [
    {
     "data": {
      "text/plain": [
       "<matplotlib.collections.PathCollection at 0x7fd336e32fa0>"
      ]
     },
     "execution_count": 224,
     "metadata": {},
     "output_type": "execute_result"
    },
    {
     "data": {
      "image/png": "[encoded data removed]",
      "text/plain": [
       "<Figure size 432x288 with 1 Axes>"
      ]
     },
     "metadata": {
      "needs_background": "light"
     },
     "output_type": "display_data"
    }
   ],
   "source": []
  },
  {
   "cell_type": "code",
   "execution_count": null,
   "metadata": {},
   "outputs": [],
   "source": []
  }
 ],
 "metadata": {
  "kernelspec": {
   "display_name": "Python 3",
   "language": "python",
   "name": "python3"
  },
  "language_info": {
   "codemirror_mode": {
    "name": "ipython",
    "version": 3
   },
   "file_extension": ".py",
   "mimetype": "text/x-python",
   "name": "python",
   "nbconvert_exporter": "python",
   "pygments_lexer": "ipython3",
   "version": "3.8.3"
  }
 },
 "nbformat": 4,
 "nbformat_minor": 4
}
